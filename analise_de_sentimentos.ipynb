{
 "cells": [
  {
   "cell_type": "markdown",
   "id": "9cc0d1bb",
   "metadata": {},
   "source": [
    "## Projeto para Análise de Sentimentos"
   ]
  },
  {
   "cell_type": "markdown",
   "id": "1e1d52ad",
   "metadata": {},
   "source": [
    "### Análise Exploratória dos Dados"
   ]
  },
  {
   "cell_type": "code",
   "execution_count": 1,
   "id": "70a45a4c",
   "metadata": {},
   "outputs": [],
   "source": [
    "# Imports\n",
    "import re\n",
    "import pickle\n",
    "import nltk\n",
    "import sklearn\n",
    "import numpy as np\n",
    "import pandas as pd\n",
    "from nltk.corpus import stopwords\n",
    "from nltk.tokenize import word_tokenize\n",
    "from nltk.stem import SnowballStemmer\n",
    "from sklearn.feature_extraction.text import CountVectorizer\n",
    "from sklearn.model_selection import train_test_split\n",
    "from sklearn.naive_bayes import GaussianNB, MultinomialNB, BernoulliNB\n",
    "from sklearn.metrics import accuracy_score"
   ]
  },
  {
   "cell_type": "code",
   "execution_count": 2,
   "id": "19d2d2e0",
   "metadata": {},
   "outputs": [
    {
     "name": "stdout",
     "output_type": "stream",
     "text": [
      "Author: Marcelo Medeiros | Cientista de Dados\n",
      "\n"
     ]
    }
   ],
   "source": [
    "# Versões dos pacotes\n",
    "%reload_ext watermark\n",
    "%watermark -a \"Marcelo Medeiros | Cientista de Dados\""
   ]
  },
  {
   "cell_type": "code",
   "execution_count": 3,
   "id": "3005a64e",
   "metadata": {},
   "outputs": [],
   "source": [
    "# Dados\n",
    "df = pd.read_csv(\"dataset.csv\")"
   ]
  },
  {
   "cell_type": "markdown",
   "id": "1336c626",
   "metadata": {},
   "source": [
    "##### Visão inicial dos dados"
   ]
  },
  {
   "cell_type": "code",
   "execution_count": 4,
   "id": "085a53ec",
   "metadata": {},
   "outputs": [
    {
     "data": {
      "text/html": [
       "<div>\n",
       "<style scoped>\n",
       "    .dataframe tbody tr th:only-of-type {\n",
       "        vertical-align: middle;\n",
       "    }\n",
       "\n",
       "    .dataframe tbody tr th {\n",
       "        vertical-align: top;\n",
       "    }\n",
       "\n",
       "    .dataframe thead th {\n",
       "        text-align: right;\n",
       "    }\n",
       "</style>\n",
       "<table border=\"1\" class=\"dataframe\">\n",
       "  <thead>\n",
       "    <tr style=\"text-align: right;\">\n",
       "      <th></th>\n",
       "      <th>review</th>\n",
       "      <th>sentiment</th>\n",
       "    </tr>\n",
       "  </thead>\n",
       "  <tbody>\n",
       "    <tr>\n",
       "      <th>0</th>\n",
       "      <td>One of the other reviewers has mentioned that ...</td>\n",
       "      <td>positive</td>\n",
       "    </tr>\n",
       "    <tr>\n",
       "      <th>1</th>\n",
       "      <td>A wonderful little production. &lt;br /&gt;&lt;br /&gt;The...</td>\n",
       "      <td>positive</td>\n",
       "    </tr>\n",
       "    <tr>\n",
       "      <th>2</th>\n",
       "      <td>I thought this was a wonderful way to spend ti...</td>\n",
       "      <td>positive</td>\n",
       "    </tr>\n",
       "    <tr>\n",
       "      <th>3</th>\n",
       "      <td>Basically there's a family where a little boy ...</td>\n",
       "      <td>negative</td>\n",
       "    </tr>\n",
       "    <tr>\n",
       "      <th>4</th>\n",
       "      <td>Petter Mattei's \"Love in the Time of Money\" is...</td>\n",
       "      <td>positive</td>\n",
       "    </tr>\n",
       "  </tbody>\n",
       "</table>\n",
       "</div>"
      ],
      "text/plain": [
       "                                              review sentiment\n",
       "0  One of the other reviewers has mentioned that ...  positive\n",
       "1  A wonderful little production. <br /><br />The...  positive\n",
       "2  I thought this was a wonderful way to spend ti...  positive\n",
       "3  Basically there's a family where a little boy ...  negative\n",
       "4  Petter Mattei's \"Love in the Time of Money\" is...  positive"
      ]
     },
     "execution_count": 4,
     "metadata": {},
     "output_type": "execute_result"
    }
   ],
   "source": [
    "df.head()"
   ]
  },
  {
   "cell_type": "code",
   "execution_count": 5,
   "id": "9584d351",
   "metadata": {},
   "outputs": [
    {
     "data": {
      "text/plain": [
       "(50000, 2)"
      ]
     },
     "execution_count": 5,
     "metadata": {},
     "output_type": "execute_result"
    }
   ],
   "source": [
    "df.shape"
   ]
  },
  {
   "cell_type": "code",
   "execution_count": 6,
   "id": "7fd11c43",
   "metadata": {},
   "outputs": [
    {
     "name": "stdout",
     "output_type": "stream",
     "text": [
      "<class 'pandas.core.frame.DataFrame'>\n",
      "RangeIndex: 50000 entries, 0 to 49999\n",
      "Data columns (total 2 columns):\n",
      " #   Column     Non-Null Count  Dtype \n",
      "---  ------     --------------  ----- \n",
      " 0   review     50000 non-null  object\n",
      " 1   sentiment  50000 non-null  object\n",
      "dtypes: object(2)\n",
      "memory usage: 781.4+ KB\n"
     ]
    }
   ],
   "source": [
    "df.info()"
   ]
  },
  {
   "cell_type": "code",
   "execution_count": 7,
   "id": "7df6014c",
   "metadata": {},
   "outputs": [
    {
     "data": {
      "text/plain": [
       "sentiment\n",
       "positive    25000\n",
       "negative    25000\n",
       "Name: count, dtype: int64"
      ]
     },
     "execution_count": 7,
     "metadata": {},
     "output_type": "execute_result"
    }
   ],
   "source": [
    "# Contagem de registros por classe\n",
    "df.sentiment.value_counts()"
   ]
  },
  {
   "cell_type": "markdown",
   "id": "3654449a",
   "metadata": {},
   "source": [
    "### Limpeza dos Dados"
   ]
  },
  {
   "cell_type": "code",
   "execution_count": 8,
   "id": "3d3c1bd7",
   "metadata": {},
   "outputs": [
    {
     "name": "stderr",
     "output_type": "stream",
     "text": [
      "C:\\Users\\MSM\\AppData\\Local\\Temp\\ipykernel_5304\\1667613451.py:2: FutureWarning: A value is trying to be set on a copy of a DataFrame or Series through chained assignment using an inplace method.\n",
      "The behavior will change in pandas 3.0. This inplace method will never work because the intermediate object on which we are setting values always behaves as a copy.\n",
      "\n",
      "For example, when doing 'df[col].method(value, inplace=True)', try using 'df.method({col: value}, inplace=True)' or df[col] = df[col].method(value) instead, to perform the operation inplace on the original object.\n",
      "\n",
      "\n",
      "  df.sentiment.replace('positive', 1, inplace=True)\n",
      "C:\\Users\\MSM\\AppData\\Local\\Temp\\ipykernel_5304\\1667613451.py:3: FutureWarning: A value is trying to be set on a copy of a DataFrame or Series through chained assignment using an inplace method.\n",
      "The behavior will change in pandas 3.0. This inplace method will never work because the intermediate object on which we are setting values always behaves as a copy.\n",
      "\n",
      "For example, when doing 'df[col].method(value, inplace=True)', try using 'df.method({col: value}, inplace=True)' or df[col] = df[col].method(value) instead, to perform the operation inplace on the original object.\n",
      "\n",
      "\n",
      "  df.sentiment.replace('negative', 0, inplace=True)\n",
      "C:\\Users\\MSM\\AppData\\Local\\Temp\\ipykernel_5304\\1667613451.py:3: FutureWarning: Downcasting behavior in `replace` is deprecated and will be removed in a future version. To retain the old behavior, explicitly call `result.infer_objects(copy=False)`. To opt-in to the future behavior, set `pd.set_option('future.no_silent_downcasting', True)`\n",
      "  df.sentiment.replace('negative', 0, inplace=True)\n"
     ]
    }
   ],
   "source": [
    "# Ajustando os labels para representação numérica\n",
    "df.sentiment.replace('positive', 1, inplace=True)\n",
    "df.sentiment.replace('negative', 0, inplace=True)"
   ]
  },
  {
   "cell_type": "code",
   "execution_count": 9,
   "id": "d87ae59d",
   "metadata": {
    "scrolled": true
   },
   "outputs": [
    {
     "data": {
      "text/html": [
       "<div>\n",
       "<style scoped>\n",
       "    .dataframe tbody tr th:only-of-type {\n",
       "        vertical-align: middle;\n",
       "    }\n",
       "\n",
       "    .dataframe tbody tr th {\n",
       "        vertical-align: top;\n",
       "    }\n",
       "\n",
       "    .dataframe thead th {\n",
       "        text-align: right;\n",
       "    }\n",
       "</style>\n",
       "<table border=\"1\" class=\"dataframe\">\n",
       "  <thead>\n",
       "    <tr style=\"text-align: right;\">\n",
       "      <th></th>\n",
       "      <th>review</th>\n",
       "      <th>sentiment</th>\n",
       "    </tr>\n",
       "  </thead>\n",
       "  <tbody>\n",
       "    <tr>\n",
       "      <th>0</th>\n",
       "      <td>One of the other reviewers has mentioned that ...</td>\n",
       "      <td>1</td>\n",
       "    </tr>\n",
       "    <tr>\n",
       "      <th>1</th>\n",
       "      <td>A wonderful little production. &lt;br /&gt;&lt;br /&gt;The...</td>\n",
       "      <td>1</td>\n",
       "    </tr>\n",
       "    <tr>\n",
       "      <th>2</th>\n",
       "      <td>I thought this was a wonderful way to spend ti...</td>\n",
       "      <td>1</td>\n",
       "    </tr>\n",
       "    <tr>\n",
       "      <th>3</th>\n",
       "      <td>Basically there's a family where a little boy ...</td>\n",
       "      <td>0</td>\n",
       "    </tr>\n",
       "    <tr>\n",
       "      <th>4</th>\n",
       "      <td>Petter Mattei's \"Love in the Time of Money\" is...</td>\n",
       "      <td>1</td>\n",
       "    </tr>\n",
       "  </tbody>\n",
       "</table>\n",
       "</div>"
      ],
      "text/plain": [
       "                                              review  sentiment\n",
       "0  One of the other reviewers has mentioned that ...          1\n",
       "1  A wonderful little production. <br /><br />The...          1\n",
       "2  I thought this was a wonderful way to spend ti...          1\n",
       "3  Basically there's a family where a little boy ...          0\n",
       "4  Petter Mattei's \"Love in the Time of Money\" is...          1"
      ]
     },
     "execution_count": 9,
     "metadata": {},
     "output_type": "execute_result"
    }
   ],
   "source": [
    "df.head()"
   ]
  },
  {
   "cell_type": "code",
   "execution_count": 10,
   "id": "e9a07df5",
   "metadata": {},
   "outputs": [
    {
     "data": {
      "text/plain": [
       "\"One of the other reviewers has mentioned that after watching just 1 Oz episode you'll be hooked. They are right, as this is exactly what happened with me.<br /><br />The first thing that struck me about Oz was its brutality and unflinching scenes of violence, which set in right from the word GO. Trust me, this is not a show for the faint hearted or timid. This show pulls no punches with regards to drugs, sex or violence. Its is hardcore, in the classic use of the word.<br /><br />It is called OZ as that is the nickname given to the Oswald Maximum Security State Penitentary. It focuses mainly on Emerald City, an experimental section of the prison where all the cells have glass fronts and face inwards, so privacy is not high on the agenda. Em City is home to many..Aryans, Muslims, gangstas, Latinos, Christians, Italians, Irish and more....so scuffles, death stares, dodgy dealings and shady agreements are never far away.<br /><br />I would say the main appeal of the show is due to the fact that it goes where other shows wouldn't dare. Forget pretty pictures painted for mainstream audiences, forget charm, forget romance...OZ doesn't mess around. The first episode I ever saw struck me as so nasty it was surreal, I couldn't say I was ready for it, but as I watched more, I developed a taste for Oz, and got accustomed to the high levels of graphic violence. Not just violence, but injustice (crooked guards who'll be sold out for a nickel, inmates who'll kill on order and get away with it, well mannered, middle class inmates being turned into prison bitches due to their lack of street skills or prison experience) Watching Oz, you may become comfortable with what is uncomfortable viewing....thats if you can get in touch with your darker side.\""
      ]
     },
     "execution_count": 10,
     "metadata": {},
     "output_type": "execute_result"
    }
   ],
   "source": [
    "df.review[0]"
   ]
  },
  {
   "cell_type": "code",
   "execution_count": 11,
   "id": "bae2b60e",
   "metadata": {},
   "outputs": [],
   "source": [
    "# Função de limpeza geral de dados\n",
    "def limpa_dados(texto):\n",
    "    cleaned = re.compile(r'<.*?>') \n",
    "    return re.sub(cleaned, '', texto)"
   ]
  },
  {
   "cell_type": "markdown",
   "id": "90ce8724",
   "metadata": {},
   "source": [
    "A função acima recebe um argumento chamado texto, que é a string de texto a ser limpa. Dentro da função, a expressão regular r'<.?>' é compilada. Esta expressão regular corresponde a qualquer coisa que esteja entre os caracteres < e >, incluindo os próprios caracteres de abertura e fechamento de tags. O ponto (.) corresponde a qualquer caractere (exceto quebras de linha), e o asterisco () indica que o caractere anterior (neste caso, o ponto) pode ocorrer zero ou mais vezes. O ponto de interrogação (?) torna a correspondência \"preguiçosa\", o que significa que ela corresponderá ao menor número possível de caracteres.\n",
    "\n",
    "A função re.sub() é usada para substituir todas as ocorrências da expressão regular compilada (ou seja, as tags HTML) por uma string vazia (''). Isso efetivamente remove todas as tags HTML do texto. O texto limpo, sem as tags HTML, é retornado pela função."
   ]
  },
  {
   "cell_type": "code",
   "execution_count": 12,
   "id": "89da5014",
   "metadata": {},
   "outputs": [
    {
     "name": "stdout",
     "output_type": "stream",
     "text": [
      "Este é um exemplo com tags HTML.\n"
     ]
    }
   ],
   "source": [
    "# Testando a função\n",
    "texto_com_tags = \"<p>Este é um exemplo <b>com</b> tags HTML.</p>\"\n",
    "texto_limpo = limpa_dados(texto_com_tags)\n",
    "print(texto_limpo)  "
   ]
  },
  {
   "cell_type": "code",
   "execution_count": 13,
   "id": "f8878338",
   "metadata": {},
   "outputs": [],
   "source": [
    "# Aplicando no Dataset\n",
    "df.review = df.review.apply(limpa_dados)"
   ]
  },
  {
   "cell_type": "code",
   "execution_count": 14,
   "id": "b957030f",
   "metadata": {},
   "outputs": [
    {
     "data": {
      "text/plain": [
       "\"One of the other reviewers has mentioned that after watching just 1 Oz episode you'll be hooked. They are right, as this is exactly what happened with me.The first thing that struck me about Oz was its brutality and unflinching scenes of violence, which set in right from the word GO. Trust me, this is not a show for the faint hearted or timid. This show pulls no punches with regards to drugs, sex or violence. Its is hardcore, in the classic use of the word.It is called OZ as that is the nickname given to the Oswald Maximum Security State Penitentary. It focuses mainly on Emerald City, an experimental section of the prison where all the cells have glass fronts and face inwards, so privacy is not high on the agenda. Em City is home to many..Aryans, Muslims, gangstas, Latinos, Christians, Italians, Irish and more....so scuffles, death stares, dodgy dealings and shady agreements are never far away.I would say the main appeal of the show is due to the fact that it goes where other shows wouldn't dare. Forget pretty pictures painted for mainstream audiences, forget charm, forget romance...OZ doesn't mess around. The first episode I ever saw struck me as so nasty it was surreal, I couldn't say I was ready for it, but as I watched more, I developed a taste for Oz, and got accustomed to the high levels of graphic violence. Not just violence, but injustice (crooked guards who'll be sold out for a nickel, inmates who'll kill on order and get away with it, well mannered, middle class inmates being turned into prison bitches due to their lack of street skills or prison experience) Watching Oz, you may become comfortable with what is uncomfortable viewing....thats if you can get in touch with your darker side.\""
      ]
     },
     "execution_count": 14,
     "metadata": {},
     "output_type": "execute_result"
    }
   ],
   "source": [
    "df.review[0]"
   ]
  },
  {
   "cell_type": "code",
   "execution_count": 15,
   "id": "ac485e50",
   "metadata": {},
   "outputs": [],
   "source": [
    "# Função para limpeza de caracteres especiais\n",
    "def limpa_caracter_especial(texto):\n",
    "    rem = ''\n",
    "    for i in texto:\n",
    "        if i.isalnum():\n",
    "            rem = rem + i\n",
    "        else:\n",
    "            rem = rem + ' '\n",
    "            \n",
    "    return rem"
   ]
  },
  {
   "cell_type": "markdown",
   "id": "88f72739",
   "metadata": {},
   "source": [
    "Na função acima, a variável rem é inicializada como uma string vazia (''). Ela será usada para armazenar o texto resultante após a remoção dos caracteres especiais. A condição if i.isalnum() verifica se o caractere i é alfanumérico (ou seja, se é uma letra ou um número). A função isalnum() retorna True se o caractere for alfanumérico e False caso contrário. Se o caractere i for alfanumérico, ele é adicionado à variável rem. Se não for alfanumérico, um espaço (' ') é adicionado a rem no lugar do caractere especial. Após iterar por todos os caracteres da string texto, a função retorna a variável rem, que contém o texto com os caracteres especiais substituídos por espaços."
   ]
  },
  {
   "cell_type": "code",
   "execution_count": 16,
   "id": "3dd635af",
   "metadata": {},
   "outputs": [
    {
     "name": "stdout",
     "output_type": "stream",
     "text": [
      "Olá  mundo  Como vai \n"
     ]
    }
   ],
   "source": [
    "# Testando a função\n",
    "texto_com_caracteres_especiais = \"Olá, mundo! Como vai?\"\n",
    "texto_limpo = limpa_caracter_especial(texto_com_caracteres_especiais)\n",
    "print(texto_limpo)"
   ]
  },
  {
   "cell_type": "markdown",
   "id": "72454fb4",
   "metadata": {},
   "source": [
    "Converter todo o texto para minúsculo ajuda a padronizar os dados, tornando-os mais consistentes. Isso é especialmente útil quando se lida com texto proveniente de diferentes fontes ou formatos."
   ]
  },
  {
   "cell_type": "code",
   "execution_count": 17,
   "id": "c9ec5b87",
   "metadata": {},
   "outputs": [],
   "source": [
    "# Aplicando ao Dataset\n",
    "df.review = df.review.apply(limpa_caracter_especial)"
   ]
  },
  {
   "cell_type": "code",
   "execution_count": 18,
   "id": "da8f2413",
   "metadata": {},
   "outputs": [
    {
     "data": {
      "text/plain": [
       "'One of the other reviewers has mentioned that after watching just 1 Oz episode you ll be hooked  They are right  as this is exactly what happened with me The first thing that struck me about Oz was its brutality and unflinching scenes of violence  which set in right from the word GO  Trust me  this is not a show for the faint hearted or timid  This show pulls no punches with regards to drugs  sex or violence  Its is hardcore  in the classic use of the word It is called OZ as that is the nickname given to the Oswald Maximum Security State Penitentary  It focuses mainly on Emerald City  an experimental section of the prison where all the cells have glass fronts and face inwards  so privacy is not high on the agenda  Em City is home to many  Aryans  Muslims  gangstas  Latinos  Christians  Italians  Irish and more    so scuffles  death stares  dodgy dealings and shady agreements are never far away I would say the main appeal of the show is due to the fact that it goes where other shows wouldn t dare  Forget pretty pictures painted for mainstream audiences  forget charm  forget romance   OZ doesn t mess around  The first episode I ever saw struck me as so nasty it was surreal  I couldn t say I was ready for it  but as I watched more  I developed a taste for Oz  and got accustomed to the high levels of graphic violence  Not just violence  but injustice  crooked guards who ll be sold out for a nickel  inmates who ll kill on order and get away with it  well mannered  middle class inmates being turned into prison bitches due to their lack of street skills or prison experience  Watching Oz  you may become comfortable with what is uncomfortable viewing    thats if you can get in touch with your darker side '"
      ]
     },
     "execution_count": 18,
     "metadata": {},
     "output_type": "execute_result"
    }
   ],
   "source": [
    "df.review[0]"
   ]
  },
  {
   "cell_type": "code",
   "execution_count": 19,
   "id": "771ba92f",
   "metadata": {},
   "outputs": [],
   "source": [
    "# Função para converter o texto em minúsculo\n",
    "def converte_minusculo(texto):\n",
    "    return texto.lower()"
   ]
  },
  {
   "cell_type": "code",
   "execution_count": 20,
   "id": "b8dff0ad",
   "metadata": {},
   "outputs": [
    {
     "name": "stdout",
     "output_type": "stream",
     "text": [
      "esta é uma frase com letras maiúsculas\n"
     ]
    }
   ],
   "source": [
    "# Testando a função\n",
    "frase = \"Esta é uma fraSE com LETRAS MaiúscuLAs\"\n",
    "frase_saida = converte_minusculo(frase)\n",
    "print(frase_saida)"
   ]
  },
  {
   "cell_type": "code",
   "execution_count": 21,
   "id": "644ba77f",
   "metadata": {},
   "outputs": [],
   "source": [
    "# Aplica a função\n",
    "df.review = df.review .apply(converte_minusculo)"
   ]
  },
  {
   "cell_type": "code",
   "execution_count": 22,
   "id": "72f93387",
   "metadata": {},
   "outputs": [
    {
     "data": {
      "text/plain": [
       "'one of the other reviewers has mentioned that after watching just 1 oz episode you ll be hooked  they are right  as this is exactly what happened with me the first thing that struck me about oz was its brutality and unflinching scenes of violence  which set in right from the word go  trust me  this is not a show for the faint hearted or timid  this show pulls no punches with regards to drugs  sex or violence  its is hardcore  in the classic use of the word it is called oz as that is the nickname given to the oswald maximum security state penitentary  it focuses mainly on emerald city  an experimental section of the prison where all the cells have glass fronts and face inwards  so privacy is not high on the agenda  em city is home to many  aryans  muslims  gangstas  latinos  christians  italians  irish and more    so scuffles  death stares  dodgy dealings and shady agreements are never far away i would say the main appeal of the show is due to the fact that it goes where other shows wouldn t dare  forget pretty pictures painted for mainstream audiences  forget charm  forget romance   oz doesn t mess around  the first episode i ever saw struck me as so nasty it was surreal  i couldn t say i was ready for it  but as i watched more  i developed a taste for oz  and got accustomed to the high levels of graphic violence  not just violence  but injustice  crooked guards who ll be sold out for a nickel  inmates who ll kill on order and get away with it  well mannered  middle class inmates being turned into prison bitches due to their lack of street skills or prison experience  watching oz  you may become comfortable with what is uncomfortable viewing    thats if you can get in touch with your darker side '"
      ]
     },
     "execution_count": 22,
     "metadata": {},
     "output_type": "execute_result"
    }
   ],
   "source": [
    "df.review[0]"
   ]
  },
  {
   "cell_type": "code",
   "execution_count": 23,
   "id": "f242c8af",
   "metadata": {},
   "outputs": [
    {
     "name": "stderr",
     "output_type": "stream",
     "text": [
      "[nltk_data] Downloading package punkt to\n",
      "[nltk_data]     C:\\Users\\MSM\\AppData\\Roaming\\nltk_data...\n",
      "[nltk_data]   Package punkt is already up-to-date!\n",
      "[nltk_data] Downloading package stopwords to\n",
      "[nltk_data]     C:\\Users\\MSM\\AppData\\Roaming\\nltk_data...\n",
      "[nltk_data]   Package stopwords is already up-to-date!\n"
     ]
    },
    {
     "data": {
      "text/plain": [
       "True"
      ]
     },
     "execution_count": 23,
     "metadata": {},
     "output_type": "execute_result"
    }
   ],
   "source": [
    "nltk.download('punkt')\n",
    "nltk.download('stopwords')"
   ]
  },
  {
   "cell_type": "code",
   "execution_count": 24,
   "id": "e25a2687",
   "metadata": {},
   "outputs": [],
   "source": [
    "# Função para remover stopwords\n",
    "def remove_stopwords(texto):\n",
    "    stop_words = set(stopwords.words('english'))\n",
    "    words = word_tokenize(str(texto))\n",
    "    return [w for w in words if w not in stop_words]"
   ]
  },
  {
   "cell_type": "markdown",
   "id": "9b4dd454",
   "metadata": {},
   "source": [
    "A função acima utiliza a biblioteca NLTK (Natural Language Toolkit) para obter um conjunto de stopwords para o idioma inglês com stopwords.words('english'). Essas stopwords incluem palavras comuns como \"the\", \"is\", \"in\", etc., que geralmente não contribuem para o significado principal do texto em análises de PLN.\n",
    "\n",
    "O texto é convertido em uma lista de palavras (ou \"tokens\") usando a função word_tokenize da NLTK. A função word_tokenize divide o texto em palavras com base em espaços e pontuação.\n",
    "\n",
    "A list comprehension [w for w in words if w not in stop_words] é usada para criar uma nova lista de palavras que contém apenas aquelas palavras que não estão presentes no conjunto de stopwords. Ou seja, todas as palavras que são consideradas irrelevantes são removidas do texto."
   ]
  },
  {
   "cell_type": "code",
   "execution_count": 25,
   "id": "85413d98",
   "metadata": {},
   "outputs": [
    {
     "name": "stdout",
     "output_type": "stream",
     "text": [
      "['They', 'right', ',', 'exactly', 'happened', '.']\n"
     ]
    }
   ],
   "source": [
    "# Testando a função\n",
    "frase =  \"They are right, as this is exactly what happened with me.\"\n",
    "frase_saida = remove_stopwords(frase)\n",
    "print(frase_saida)"
   ]
  },
  {
   "cell_type": "code",
   "execution_count": 26,
   "id": "af3fe2bf",
   "metadata": {},
   "outputs": [
    {
     "name": "stdout",
     "output_type": "stream",
     "text": [
      "Wall time: 46.3 s\n"
     ]
    }
   ],
   "source": [
    "%%time\n",
    "df.review = df.review.apply(remove_stopwords)"
   ]
  },
  {
   "cell_type": "code",
   "execution_count": 27,
   "id": "5378c5c3",
   "metadata": {},
   "outputs": [
    {
     "data": {
      "text/plain": [
       "['one',\n",
       " 'reviewers',\n",
       " 'mentioned',\n",
       " 'watching',\n",
       " '1',\n",
       " 'oz',\n",
       " 'episode',\n",
       " 'hooked',\n",
       " 'right',\n",
       " 'exactly',\n",
       " 'happened',\n",
       " 'first',\n",
       " 'thing',\n",
       " 'struck',\n",
       " 'oz',\n",
       " 'brutality',\n",
       " 'unflinching',\n",
       " 'scenes',\n",
       " 'violence',\n",
       " 'set',\n",
       " 'right',\n",
       " 'word',\n",
       " 'go',\n",
       " 'trust',\n",
       " 'show',\n",
       " 'faint',\n",
       " 'hearted',\n",
       " 'timid',\n",
       " 'show',\n",
       " 'pulls',\n",
       " 'punches',\n",
       " 'regards',\n",
       " 'drugs',\n",
       " 'sex',\n",
       " 'violence',\n",
       " 'hardcore',\n",
       " 'classic',\n",
       " 'use',\n",
       " 'word',\n",
       " 'called',\n",
       " 'oz',\n",
       " 'nickname',\n",
       " 'given',\n",
       " 'oswald',\n",
       " 'maximum',\n",
       " 'security',\n",
       " 'state',\n",
       " 'penitentary',\n",
       " 'focuses',\n",
       " 'mainly',\n",
       " 'emerald',\n",
       " 'city',\n",
       " 'experimental',\n",
       " 'section',\n",
       " 'prison',\n",
       " 'cells',\n",
       " 'glass',\n",
       " 'fronts',\n",
       " 'face',\n",
       " 'inwards',\n",
       " 'privacy',\n",
       " 'high',\n",
       " 'agenda',\n",
       " 'em',\n",
       " 'city',\n",
       " 'home',\n",
       " 'many',\n",
       " 'aryans',\n",
       " 'muslims',\n",
       " 'gangstas',\n",
       " 'latinos',\n",
       " 'christians',\n",
       " 'italians',\n",
       " 'irish',\n",
       " 'scuffles',\n",
       " 'death',\n",
       " 'stares',\n",
       " 'dodgy',\n",
       " 'dealings',\n",
       " 'shady',\n",
       " 'agreements',\n",
       " 'never',\n",
       " 'far',\n",
       " 'away',\n",
       " 'would',\n",
       " 'say',\n",
       " 'main',\n",
       " 'appeal',\n",
       " 'show',\n",
       " 'due',\n",
       " 'fact',\n",
       " 'goes',\n",
       " 'shows',\n",
       " 'dare',\n",
       " 'forget',\n",
       " 'pretty',\n",
       " 'pictures',\n",
       " 'painted',\n",
       " 'mainstream',\n",
       " 'audiences',\n",
       " 'forget',\n",
       " 'charm',\n",
       " 'forget',\n",
       " 'romance',\n",
       " 'oz',\n",
       " 'mess',\n",
       " 'around',\n",
       " 'first',\n",
       " 'episode',\n",
       " 'ever',\n",
       " 'saw',\n",
       " 'struck',\n",
       " 'nasty',\n",
       " 'surreal',\n",
       " 'say',\n",
       " 'ready',\n",
       " 'watched',\n",
       " 'developed',\n",
       " 'taste',\n",
       " 'oz',\n",
       " 'got',\n",
       " 'accustomed',\n",
       " 'high',\n",
       " 'levels',\n",
       " 'graphic',\n",
       " 'violence',\n",
       " 'violence',\n",
       " 'injustice',\n",
       " 'crooked',\n",
       " 'guards',\n",
       " 'sold',\n",
       " 'nickel',\n",
       " 'inmates',\n",
       " 'kill',\n",
       " 'order',\n",
       " 'get',\n",
       " 'away',\n",
       " 'well',\n",
       " 'mannered',\n",
       " 'middle',\n",
       " 'class',\n",
       " 'inmates',\n",
       " 'turned',\n",
       " 'prison',\n",
       " 'bitches',\n",
       " 'due',\n",
       " 'lack',\n",
       " 'street',\n",
       " 'skills',\n",
       " 'prison',\n",
       " 'experience',\n",
       " 'watching',\n",
       " 'oz',\n",
       " 'may',\n",
       " 'become',\n",
       " 'comfortable',\n",
       " 'uncomfortable',\n",
       " 'viewing',\n",
       " 'thats',\n",
       " 'get',\n",
       " 'touch',\n",
       " 'darker',\n",
       " 'side']"
      ]
     },
     "execution_count": 27,
     "metadata": {},
     "output_type": "execute_result"
    }
   ],
   "source": [
    "df.review[0]"
   ]
  },
  {
   "cell_type": "code",
   "execution_count": 28,
   "id": "f78a825f",
   "metadata": {},
   "outputs": [],
   "source": [
    "# Função para o stemmer\n",
    "\n",
    "def stemmer(texto):\n",
    "    objeto_stemmer = SnowballStemmer('english')\n",
    "    return \" \".join([objeto_stemmer.stem(w) for w in texto])"
   ]
  },
  {
   "cell_type": "markdown",
   "id": "d9219df9",
   "metadata": {},
   "source": [
    "O \"stemming\" é uma técnica de Processamento de Linguagem Natural (PLN) usada para reduzir as palavras à sua forma raiz ou base, removendo prefixos e sufixos comuns. Isso ajuda a normalizar as palavras para análise e pode melhorar o desempenho de tarefas de PLN, como pesquisa de texto, classificação de texto e agrupamento de documentos.\n",
    "\n",
    "A função acima recebe um argumento, que é a string de texto a ser processada. Um objeto SnowballStemmer é criado para o idioma inglês ('english'). Esse objeto será usado para realizar o stemming das palavras.\n",
    "\n",
    "A função usa um list comprehension para aplicar o método stem do objeto SnowballStemmer a cada palavra no texto. O método stem reduz cada palavra à sua forma base. O texto é dividido em palavras assumindo que ele já está tokenizado (separado em palavras individuais). Se o texto não estiver tokenizado, você precisará fazer isso antes de aplicar o stemmer."
   ]
  },
  {
   "cell_type": "code",
   "execution_count": 29,
   "id": "fee47407",
   "metadata": {},
   "outputs": [
    {
     "name": "stdout",
     "output_type": "stream",
     "text": [
      "the cat are run\n"
     ]
    }
   ],
   "source": [
    "# Testando a função\n",
    "texto = \"The cats are running\"\n",
    "texto_stemmed = stemmer(texto.split())\n",
    "print(texto_stemmed)"
   ]
  },
  {
   "cell_type": "code",
   "execution_count": 30,
   "id": "82f3c81e",
   "metadata": {},
   "outputs": [
    {
     "name": "stdout",
     "output_type": "stream",
     "text": [
      "Wall time: 1min 12s\n"
     ]
    }
   ],
   "source": [
    "%%time\n",
    "df.review = df.review.apply(stemmer)"
   ]
  },
  {
   "cell_type": "code",
   "execution_count": 31,
   "id": "3ffebd1e",
   "metadata": {},
   "outputs": [
    {
     "data": {
      "text/plain": [
       "'one review mention watch 1 oz episod hook right exact happen first thing struck oz brutal unflinch scene violenc set right word go trust show faint heart timid show pull punch regard drug sex violenc hardcor classic use word call oz nicknam given oswald maximum secur state penitentari focus main emerald citi experiment section prison cell glass front face inward privaci high agenda em citi home mani aryan muslim gangsta latino christian italian irish scuffl death stare dodgi deal shadi agreement never far away would say main appeal show due fact goe show dare forget pretti pictur paint mainstream audienc forget charm forget romanc oz mess around first episod ever saw struck nasti surreal say readi watch develop tast oz got accustom high level graphic violenc violenc injustic crook guard sold nickel inmat kill order get away well manner middl class inmat turn prison bitch due lack street skill prison experi watch oz may becom comfort uncomfort view that get touch darker side'"
      ]
     },
     "execution_count": 31,
     "metadata": {},
     "output_type": "execute_result"
    }
   ],
   "source": [
    "df.review[0]"
   ]
  },
  {
   "cell_type": "markdown",
   "id": "20edc4b4",
   "metadata": {},
   "source": [
    "### Pre Processamento dos Dados"
   ]
  },
  {
   "cell_type": "code",
   "execution_count": 32,
   "id": "d527adf0",
   "metadata": {},
   "outputs": [],
   "source": [
    "# Aumentar o valor de max_colwidth para evitar truncagem\n",
    "pd.set_option('display.max_colwidth', 120)"
   ]
  },
  {
   "cell_type": "code",
   "execution_count": 33,
   "id": "4e2c9d84",
   "metadata": {},
   "outputs": [],
   "source": [
    "# Carregando os dados originais\n",
    "df_raw = pd.read_csv('dataset.csv')"
   ]
  },
  {
   "cell_type": "code",
   "execution_count": 34,
   "id": "993b8a4f",
   "metadata": {},
   "outputs": [
    {
     "data": {
      "text/html": [
       "<div>\n",
       "<style scoped>\n",
       "    .dataframe tbody tr th:only-of-type {\n",
       "        vertical-align: middle;\n",
       "    }\n",
       "\n",
       "    .dataframe tbody tr th {\n",
       "        vertical-align: top;\n",
       "    }\n",
       "\n",
       "    .dataframe thead th {\n",
       "        text-align: right;\n",
       "    }\n",
       "</style>\n",
       "<table border=\"1\" class=\"dataframe\">\n",
       "  <thead>\n",
       "    <tr style=\"text-align: right;\">\n",
       "      <th></th>\n",
       "      <th>review</th>\n",
       "      <th>sentiment</th>\n",
       "    </tr>\n",
       "  </thead>\n",
       "  <tbody>\n",
       "    <tr>\n",
       "      <th>0</th>\n",
       "      <td>One of the other reviewers has mentioned that after watching just 1 Oz episode you'll be hooked. They are right, as ...</td>\n",
       "      <td>positive</td>\n",
       "    </tr>\n",
       "    <tr>\n",
       "      <th>1</th>\n",
       "      <td>A wonderful little production. &lt;br /&gt;&lt;br /&gt;The filming technique is very unassuming- very old-time-BBC fashion and g...</td>\n",
       "      <td>positive</td>\n",
       "    </tr>\n",
       "    <tr>\n",
       "      <th>2</th>\n",
       "      <td>I thought this was a wonderful way to spend time on a too hot summer weekend, sitting in the air conditioned theater...</td>\n",
       "      <td>positive</td>\n",
       "    </tr>\n",
       "    <tr>\n",
       "      <th>3</th>\n",
       "      <td>Basically there's a family where a little boy (Jake) thinks there's a zombie in his closet &amp; his parents are fightin...</td>\n",
       "      <td>negative</td>\n",
       "    </tr>\n",
       "    <tr>\n",
       "      <th>4</th>\n",
       "      <td>Petter Mattei's \"Love in the Time of Money\" is a visually stunning film to watch. Mr. Mattei offers us a vivid portr...</td>\n",
       "      <td>positive</td>\n",
       "    </tr>\n",
       "    <tr>\n",
       "      <th>5</th>\n",
       "      <td>Probably my all-time favorite movie, a story of selflessness, sacrifice and dedication to a noble cause, but it's no...</td>\n",
       "      <td>positive</td>\n",
       "    </tr>\n",
       "    <tr>\n",
       "      <th>6</th>\n",
       "      <td>I sure would like to see a resurrection of a up dated Seahunt series with the tech they have today it would bring ba...</td>\n",
       "      <td>positive</td>\n",
       "    </tr>\n",
       "    <tr>\n",
       "      <th>7</th>\n",
       "      <td>This show was an amazing, fresh &amp; innovative idea in the 70's when it first aired. The first 7 or 8 years were brill...</td>\n",
       "      <td>negative</td>\n",
       "    </tr>\n",
       "    <tr>\n",
       "      <th>8</th>\n",
       "      <td>Encouraged by the positive comments about this film on here I was looking forward to watching this film. Bad mistake...</td>\n",
       "      <td>negative</td>\n",
       "    </tr>\n",
       "    <tr>\n",
       "      <th>9</th>\n",
       "      <td>If you like original gut wrenching laughter you will like this movie. If you are young or old then you will love thi...</td>\n",
       "      <td>positive</td>\n",
       "    </tr>\n",
       "  </tbody>\n",
       "</table>\n",
       "</div>"
      ],
      "text/plain": [
       "                                                                                                                    review  \\\n",
       "0  One of the other reviewers has mentioned that after watching just 1 Oz episode you'll be hooked. They are right, as ...   \n",
       "1  A wonderful little production. <br /><br />The filming technique is very unassuming- very old-time-BBC fashion and g...   \n",
       "2  I thought this was a wonderful way to spend time on a too hot summer weekend, sitting in the air conditioned theater...   \n",
       "3  Basically there's a family where a little boy (Jake) thinks there's a zombie in his closet & his parents are fightin...   \n",
       "4  Petter Mattei's \"Love in the Time of Money\" is a visually stunning film to watch. Mr. Mattei offers us a vivid portr...   \n",
       "5  Probably my all-time favorite movie, a story of selflessness, sacrifice and dedication to a noble cause, but it's no...   \n",
       "6  I sure would like to see a resurrection of a up dated Seahunt series with the tech they have today it would bring ba...   \n",
       "7  This show was an amazing, fresh & innovative idea in the 70's when it first aired. The first 7 or 8 years were brill...   \n",
       "8  Encouraged by the positive comments about this film on here I was looking forward to watching this film. Bad mistake...   \n",
       "9  If you like original gut wrenching laughter you will like this movie. If you are young or old then you will love thi...   \n",
       "\n",
       "  sentiment  \n",
       "0  positive  \n",
       "1  positive  \n",
       "2  positive  \n",
       "3  negative  \n",
       "4  positive  \n",
       "5  positive  \n",
       "6  positive  \n",
       "7  negative  \n",
       "8  negative  \n",
       "9  positive  "
      ]
     },
     "execution_count": 34,
     "metadata": {},
     "output_type": "execute_result"
    }
   ],
   "source": [
    "df_raw.head(10)"
   ]
  },
  {
   "cell_type": "code",
   "execution_count": 35,
   "id": "9de3e7a9",
   "metadata": {},
   "outputs": [
    {
     "data": {
      "text/html": [
       "<div>\n",
       "<style scoped>\n",
       "    .dataframe tbody tr th:only-of-type {\n",
       "        vertical-align: middle;\n",
       "    }\n",
       "\n",
       "    .dataframe tbody tr th {\n",
       "        vertical-align: top;\n",
       "    }\n",
       "\n",
       "    .dataframe thead th {\n",
       "        text-align: right;\n",
       "    }\n",
       "</style>\n",
       "<table border=\"1\" class=\"dataframe\">\n",
       "  <thead>\n",
       "    <tr style=\"text-align: right;\">\n",
       "      <th></th>\n",
       "      <th>review</th>\n",
       "      <th>sentiment</th>\n",
       "    </tr>\n",
       "  </thead>\n",
       "  <tbody>\n",
       "    <tr>\n",
       "      <th>0</th>\n",
       "      <td>one review mention watch 1 oz episod hook right exact happen first thing struck oz brutal unflinch scene violenc set...</td>\n",
       "      <td>1</td>\n",
       "    </tr>\n",
       "    <tr>\n",
       "      <th>1</th>\n",
       "      <td>wonder littl product film techniqu unassum old time bbc fashion give comfort sometim discomfort sens realism entir p...</td>\n",
       "      <td>1</td>\n",
       "    </tr>\n",
       "    <tr>\n",
       "      <th>2</th>\n",
       "      <td>thought wonder way spend time hot summer weekend sit air condit theater watch light heart comedi plot simplist dialo...</td>\n",
       "      <td>1</td>\n",
       "    </tr>\n",
       "    <tr>\n",
       "      <th>3</th>\n",
       "      <td>basic famili littl boy jake think zombi closet parent fight time movi slower soap opera sudden jake decid becom ramb...</td>\n",
       "      <td>0</td>\n",
       "    </tr>\n",
       "    <tr>\n",
       "      <th>4</th>\n",
       "      <td>petter mattei love time money visual stun film watch mr mattei offer us vivid portrait human relat movi seem tell us...</td>\n",
       "      <td>1</td>\n",
       "    </tr>\n",
       "    <tr>\n",
       "      <th>5</th>\n",
       "      <td>probabl time favorit movi stori selfless sacrific dedic nobl caus preachi bore never get old despit seen 15 time las...</td>\n",
       "      <td>1</td>\n",
       "    </tr>\n",
       "    <tr>\n",
       "      <th>6</th>\n",
       "      <td>sure would like see resurrect date seahunt seri tech today would bring back kid excit grew black white tv seahunt gu...</td>\n",
       "      <td>1</td>\n",
       "    </tr>\n",
       "    <tr>\n",
       "      <th>7</th>\n",
       "      <td>show amaz fresh innov idea 70 first air first 7 8 year brilliant thing drop 1990 show realli funni anymor continu de...</td>\n",
       "      <td>0</td>\n",
       "    </tr>\n",
       "    <tr>\n",
       "      <th>8</th>\n",
       "      <td>encourag posit comment film look forward watch film bad mistak seen 950 film truli one worst aw almost everi way edi...</td>\n",
       "      <td>0</td>\n",
       "    </tr>\n",
       "    <tr>\n",
       "      <th>9</th>\n",
       "      <td>like origin gut wrench laughter like movi young old love movi hell even mom like great camp</td>\n",
       "      <td>1</td>\n",
       "    </tr>\n",
       "  </tbody>\n",
       "</table>\n",
       "</div>"
      ],
      "text/plain": [
       "                                                                                                                    review  \\\n",
       "0  one review mention watch 1 oz episod hook right exact happen first thing struck oz brutal unflinch scene violenc set...   \n",
       "1  wonder littl product film techniqu unassum old time bbc fashion give comfort sometim discomfort sens realism entir p...   \n",
       "2  thought wonder way spend time hot summer weekend sit air condit theater watch light heart comedi plot simplist dialo...   \n",
       "3  basic famili littl boy jake think zombi closet parent fight time movi slower soap opera sudden jake decid becom ramb...   \n",
       "4  petter mattei love time money visual stun film watch mr mattei offer us vivid portrait human relat movi seem tell us...   \n",
       "5  probabl time favorit movi stori selfless sacrific dedic nobl caus preachi bore never get old despit seen 15 time las...   \n",
       "6  sure would like see resurrect date seahunt seri tech today would bring back kid excit grew black white tv seahunt gu...   \n",
       "7  show amaz fresh innov idea 70 first air first 7 8 year brilliant thing drop 1990 show realli funni anymor continu de...   \n",
       "8  encourag posit comment film look forward watch film bad mistak seen 950 film truli one worst aw almost everi way edi...   \n",
       "9                              like origin gut wrench laughter like movi young old love movi hell even mom like great camp   \n",
       "\n",
       "   sentiment  \n",
       "0          1  \n",
       "1          1  \n",
       "2          1  \n",
       "3          0  \n",
       "4          1  \n",
       "5          1  \n",
       "6          1  \n",
       "7          0  \n",
       "8          0  \n",
       "9          1  "
      ]
     },
     "execution_count": 35,
     "metadata": {},
     "output_type": "execute_result"
    }
   ],
   "source": [
    "df.head(10)"
   ]
  },
  {
   "cell_type": "code",
   "execution_count": 36,
   "id": "ac267f57",
   "metadata": {},
   "outputs": [],
   "source": [
    "# Deletando os dados originais recem carregados para liberação de memória\n",
    "del df_raw"
   ]
  },
  {
   "cell_type": "code",
   "execution_count": 37,
   "id": "5ba9e51f",
   "metadata": {},
   "outputs": [],
   "source": [
    "# Extraindo p texto da avaliação (entrada)\n",
    "X = np.array(df.iloc[:,0].values)"
   ]
  },
  {
   "cell_type": "code",
   "execution_count": 38,
   "id": "7a6a1178",
   "metadata": {},
   "outputs": [],
   "source": [
    "# Extraindo dados de saída\n",
    "y = np.array(df.sentiment.values)"
   ]
  },
  {
   "cell_type": "code",
   "execution_count": 39,
   "id": "b03098e3",
   "metadata": {},
   "outputs": [],
   "source": [
    "# Divisão de treino e teste\n",
    "\n",
    "X_treino, X_teste, y_treino, y_teste = train_test_split(X, y, test_size=0.2, random_state=0)"
   ]
  },
  {
   "cell_type": "code",
   "execution_count": 40,
   "id": "d853c2bb",
   "metadata": {},
   "outputs": [
    {
     "data": {
      "text/plain": [
       "numpy.ndarray"
      ]
     },
     "execution_count": 40,
     "metadata": {},
     "output_type": "execute_result"
    }
   ],
   "source": [
    "type(X_treino)"
   ]
  },
  {
   "cell_type": "code",
   "execution_count": 41,
   "id": "d19f49fd",
   "metadata": {},
   "outputs": [],
   "source": [
    "# Criando a representação numérica dos dados de entrada\n",
    "vetorizador = CountVectorizer(max_features=1000)"
   ]
  },
  {
   "cell_type": "code",
   "execution_count": 42,
   "id": "b94f6733",
   "metadata": {},
   "outputs": [],
   "source": [
    "# Fit e transform do vetorizador\n",
    "X_treino_final = vetorizador.fit_transform(X_treino).toarray()"
   ]
  },
  {
   "cell_type": "code",
   "execution_count": 43,
   "id": "2e9a5b2c",
   "metadata": {},
   "outputs": [],
   "source": [
    "# Apenas o transform nos dados de teste\n",
    "X_teste_final = vetorizador.transform(X_teste).toarray()"
   ]
  },
  {
   "cell_type": "code",
   "execution_count": 44,
   "id": "04474697",
   "metadata": {},
   "outputs": [
    {
     "name": "stdout",
     "output_type": "stream",
     "text": [
      "X_treino_final: (40000, 1000)\n",
      "y_treino: (40000,)\n"
     ]
    }
   ],
   "source": [
    "print(\"X_treino_final:\", X_treino_final.shape)\n",
    "print(\"y_treino:\", y_treino.shape)"
   ]
  },
  {
   "cell_type": "code",
   "execution_count": 45,
   "id": "935dc1e8",
   "metadata": {},
   "outputs": [
    {
     "name": "stdout",
     "output_type": "stream",
     "text": [
      "[[0 0 0 ... 0 0 0]\n",
      " [0 0 0 ... 0 0 0]\n",
      " [1 0 1 ... 0 0 0]\n",
      " ...\n",
      " [0 0 0 ... 0 0 0]\n",
      " [0 0 0 ... 0 0 0]\n",
      " [0 0 0 ... 0 0 0]]\n"
     ]
    }
   ],
   "source": [
    "print(X_treino_final)"
   ]
  },
  {
   "cell_type": "code",
   "execution_count": 46,
   "id": "77f7962d",
   "metadata": {},
   "outputs": [
    {
     "name": "stdout",
     "output_type": "stream",
     "text": [
      "X_teste_final: (10000, 1000)\n",
      "y_teste: (10000,)\n"
     ]
    }
   ],
   "source": [
    "print(\"X_teste_final:\", X_teste_final.shape)\n",
    "print(\"y_teste:\", y_teste.shape)"
   ]
  },
  {
   "cell_type": "markdown",
   "id": "8e83ef70",
   "metadata": {},
   "source": [
    "### Criação dos Modelos de Machine Learning"
   ]
  },
  {
   "cell_type": "code",
   "execution_count": 47,
   "id": "6051f35b",
   "metadata": {},
   "outputs": [],
   "source": [
    "# Criando o v1\n",
    "modelo_v1 = GaussianNB()"
   ]
  },
  {
   "cell_type": "code",
   "execution_count": 48,
   "id": "6d913247",
   "metadata": {},
   "outputs": [
    {
     "data": {
      "text/plain": [
       "GaussianNB()"
      ]
     },
     "execution_count": 48,
     "metadata": {},
     "output_type": "execute_result"
    }
   ],
   "source": [
    "# Treinando o modelo\n",
    "modelo_v1.fit(X_treino_final, y_treino)"
   ]
  },
  {
   "cell_type": "code",
   "execution_count": 49,
   "id": "46d9bab9",
   "metadata": {},
   "outputs": [],
   "source": [
    "# Criando o v2\n",
    "modelo_v2 = MultinomialNB(alpha = 1.0, fit_prior = True)"
   ]
  },
  {
   "cell_type": "code",
   "execution_count": 50,
   "id": "7a123d76",
   "metadata": {},
   "outputs": [
    {
     "data": {
      "text/plain": [
       "MultinomialNB()"
      ]
     },
     "execution_count": 50,
     "metadata": {},
     "output_type": "execute_result"
    }
   ],
   "source": [
    "# Treina o modelo\n",
    "modelo_v2.fit(X_treino_final, y_treino)"
   ]
  },
  {
   "cell_type": "code",
   "execution_count": 51,
   "id": "3808a09f",
   "metadata": {},
   "outputs": [],
   "source": [
    "# Treinando o modelo 3\n",
    "modelo_v3 = BernoulliNB(alpha = 1.0, fit_prior = True)"
   ]
  },
  {
   "cell_type": "code",
   "execution_count": 53,
   "id": "8f257990",
   "metadata": {},
   "outputs": [
    {
     "data": {
      "text/plain": [
       "MultinomialNB()"
      ]
     },
     "execution_count": 53,
     "metadata": {},
     "output_type": "execute_result"
    }
   ],
   "source": [
    "# Treina o modelo\n",
    "modelo_v2.fit(X_treino_final, y_treino)"
   ]
  },
  {
   "cell_type": "code",
   "execution_count": 57,
   "id": "0227ece4",
   "metadata": {},
   "outputs": [],
   "source": [
    "# Cria o modelo\n",
    "modelo_v3 = BernoulliNB(alpha = 1.0, fit_prior = True)"
   ]
  },
  {
   "cell_type": "code",
   "execution_count": 58,
   "id": "196aab00",
   "metadata": {},
   "outputs": [
    {
     "data": {
      "text/plain": [
       "BernoulliNB()"
      ]
     },
     "execution_count": 58,
     "metadata": {},
     "output_type": "execute_result"
    }
   ],
   "source": [
    "# Treina o modelo\n",
    "modelo_v3.fit(X_treino_final, y_treino)"
   ]
  },
  {
   "cell_type": "markdown",
   "id": "cf21cc20",
   "metadata": {},
   "source": [
    "### Avaliação, Interpretação e Comparação dos Modelos"
   ]
  },
  {
   "cell_type": "code",
   "execution_count": 54,
   "id": "7a6ed730",
   "metadata": {},
   "outputs": [],
   "source": [
    "# Previsões com dados de teste\n",
    "ypred_v1 = modelo_v1.predict(X_teste_final)"
   ]
  },
  {
   "cell_type": "code",
   "execution_count": 55,
   "id": "2bfbd78f",
   "metadata": {},
   "outputs": [],
   "source": [
    "# Previsões com dados de teste\n",
    "ypred_v2 = modelo_v2.predict(X_teste_final)"
   ]
  },
  {
   "cell_type": "code",
   "execution_count": 59,
   "id": "9779de99",
   "metadata": {},
   "outputs": [],
   "source": [
    "# Previsões com dados de teste\n",
    "ypred_v3 = modelo_v3.predict(X_teste_final)"
   ]
  },
  {
   "cell_type": "code",
   "execution_count": 60,
   "id": "f947c9b9",
   "metadata": {},
   "outputs": [
    {
     "name": "stdout",
     "output_type": "stream",
     "text": [
      "Acurácia do Modelo GaussianNB =  79.06\n",
      "Acurácia do Modelo MultinomialNB =  82.57\n",
      "Acurácia do Modelo BernoulliNB =  83.02000000000001\n"
     ]
    }
   ],
   "source": [
    "print(\"Acurácia do Modelo GaussianNB = \", accuracy_score(y_teste, ypred_v1) * 100)\n",
    "print(\"Acurácia do Modelo MultinomialNB = \", accuracy_score(y_teste, ypred_v2) * 100)\n",
    "print(\"Acurácia do Modelo BernoulliNB = \", accuracy_score(y_teste, ypred_v3) * 100)"
   ]
  },
  {
   "cell_type": "code",
   "execution_count": 61,
   "id": "33986096",
   "metadata": {},
   "outputs": [],
   "source": [
    "# Import\n",
    "from sklearn.metrics import roc_auc_score"
   ]
  },
  {
   "cell_type": "code",
   "execution_count": 62,
   "id": "83f89081",
   "metadata": {},
   "outputs": [
    {
     "name": "stdout",
     "output_type": "stream",
     "text": [
      "AUC do Modelo GaussianNB = 0.861081232980416\n"
     ]
    }
   ],
   "source": [
    "# AUC do GaussianNB\n",
    "y_proba = modelo_v1.predict_proba(X_teste_final)[:, 1]\n",
    "auc = roc_auc_score(y_teste, y_proba)\n",
    "print(\"AUC do Modelo GaussianNB =\", auc)"
   ]
  },
  {
   "cell_type": "code",
   "execution_count": 63,
   "id": "6c668ea9",
   "metadata": {},
   "outputs": [
    {
     "name": "stdout",
     "output_type": "stream",
     "text": [
      "AUC do Modelo MultinomialNB = 0.8993217067636314\n"
     ]
    }
   ],
   "source": [
    "# AUC do MultinomialNB\n",
    "y_proba = modelo_v2.predict_proba(X_teste_final)[:, 1]\n",
    "auc = roc_auc_score(y_teste, y_proba)\n",
    "print(\"AUC do Modelo MultinomialNB =\", auc)"
   ]
  },
  {
   "cell_type": "code",
   "execution_count": 64,
   "id": "57821019",
   "metadata": {},
   "outputs": [
    {
     "name": "stdout",
     "output_type": "stream",
     "text": [
      "AUC do Modelo BernoulliNB = 0.9083430688103717\n"
     ]
    }
   ],
   "source": [
    "# AUC do BernoulliNB\n",
    "y_proba = modelo_v3.predict_proba(X_teste_final)[:, 1]\n",
    "auc = roc_auc_score(y_teste, y_proba)\n",
    "print(\"AUC do Modelo BernoulliNB =\", auc)"
   ]
  },
  {
   "cell_type": "code",
   "execution_count": 65,
   "id": "77451602",
   "metadata": {},
   "outputs": [],
   "source": [
    "# Salva o melhor modelo em disco\n",
    "with open('modelo_v3.pkl', 'wb') as arquivo:\n",
    "    pickle.dump(modelo_v3, arquivo)"
   ]
  },
  {
   "cell_type": "markdown",
   "id": "0d669267",
   "metadata": {},
   "source": [
    "### Deploy e Uso do Modelo"
   ]
  },
  {
   "cell_type": "code",
   "execution_count": 66,
   "id": "e7f67577",
   "metadata": {},
   "outputs": [],
   "source": [
    "# Carrega o modelo do disco\n",
    "with open('modelo_v3.pkl', 'rb') as arquivo:\n",
    "    modelo_final = pickle.load(arquivo)"
   ]
  },
  {
   "cell_type": "code",
   "execution_count": 67,
   "id": "97a08b6a",
   "metadata": {},
   "outputs": [],
   "source": [
    "# Texto de uma avaliação de usuário (esse texto apresenta sentimento positivo)\n",
    "texto_aval = \"\"\"This is probably the fastest-paced and most action-packed of the German Edgar Wallace \"\"krimi\"\" \n",
    "series, a cross between the Dr. Mabuse films of yore and 60's pop thrillers like Batman and the Man \n",
    "from UNCLE. It reintroduces the outrageous villain from an earlier film who dons a stylish monk's habit and \n",
    "breaks the necks of victims with the curl of a deadly whip. Set at a posh girls' school filled with lecherous \n",
    "middle-aged professors, and with the cops fondling their hot-to-trot secretaries at every opportunity, it \n",
    "certainly is a throwback to those wonderfully politically-incorrect times. There's a definite link to a later \n",
    "Wallace-based film, the excellent giallo \"\"Whatever Happened to Solange?\"\", which also concerns female students \n",
    "being corrupted by (and corrupting?) their elders. Quite appropriate to the monk theme, the master-mind villain \n",
    "uses booby-trapped bibles here to deal some of the death blows, and also maintains a reptile-replete dungeon \n",
    "to amuse his captive audiences. <br /><br />Alfred Vohrer was always the most playful and visually flamboyant \n",
    "of the series directors, and here the lurid colour cinematography is the real star of the show. The Monk appears \n",
    "in a raving scarlet cowl and robe, tastefully setting off the lustrous white whip, while appearing against \n",
    "purplish-night backgrounds. There's also a voyeur-friendly turquoise swimming pool which looks great both \n",
    "as a glowing milieu for the nubile students and as a shadowy backdrop for one of the murder scenes. \n",
    "The trademark \"\"kicker\"\" of hiding the \"\"Ende\"\" card somewhere in the set of the last scene is also quite \n",
    "memorable here. And there's a fine brassy and twangy score for retro-music fans.<br /><br />Fans of the series \n",
    "will definitely miss the flippant Eddie Arent character in these later films. Instead, the chief inspector \n",
    "Sir John takes on the role of buffoon, convinced that he has mastered criminal psychology after taking a few \n",
    "night courses. Unfortunately, Klaus Kinski had also gone on to bigger and better things. The krimis had \n",
    "lost some of their offbeat subversive charm by this point, and now worked on a much more blatant pop-culture \n",
    "level, which will make this one quite accessible to uninitiated viewers.\"\"\""
   ]
  },
  {
   "cell_type": "code",
   "execution_count": 68,
   "id": "0f4ca981",
   "metadata": {},
   "outputs": [],
   "source": [
    "# Fluxo de transformação dos dados\n",
    "tarefa1 = limpa_dados(texto_aval)\n",
    "tarefa2 = limpa_caracter_especial(tarefa1)\n",
    "tarefa3 = converte_minusculo(tarefa2)\n",
    "tarefa4 = remove_stopwords(tarefa3)\n",
    "tarefa5 = stemmer(tarefa4)"
   ]
  },
  {
   "cell_type": "code",
   "execution_count": 69,
   "id": "3e9ece40",
   "metadata": {},
   "outputs": [
    {
     "name": "stdout",
     "output_type": "stream",
     "text": [
      "probabl fastest pace action pack german edgar wallac krimi seri cross dr mabus film yore 60 pop thriller like batman man uncl reintroduc outrag villain earlier film don stylish monk habit break neck victim curl dead whip set posh girl school fill lecher middl age professor cop fondl hot trot secretari everi opportun certain throwback wonder polit incorrect time definit link later wallac base film excel giallo whatev happen solang also concern femal student corrupt corrupt elder quit appropri monk theme master mind villain use boobi trap bibl deal death blow also maintain reptil replet dungeon amus captiv audienc alfr vohrer alway play visual flamboy seri director lurid colour cinematographi real star show monk appear rave scarlet cowl robe tast set lustrous white whip appear purplish night background also voyeur friend turquois swim pool look great glow milieu nubil student shadowi backdrop one murder scene trademark kicker hide end card somewher set last scene also quit memor fine brassi twangi score retro music fan fan seri definit miss flippant eddi arent charact later film instead chief inspector sir john take role buffoon convinc master crimin psycholog take night cours unfortun klaus kinski also gone bigger better thing krimi lost offbeat subvers charm point work much blatant pop cultur level make one quit access uniniti viewer\n"
     ]
    }
   ],
   "source": [
    "print(tarefa5)"
   ]
  },
  {
   "cell_type": "code",
   "execution_count": 70,
   "id": "b1b983f1",
   "metadata": {},
   "outputs": [
    {
     "data": {
      "text/plain": [
       "str"
      ]
     },
     "execution_count": 70,
     "metadata": {},
     "output_type": "execute_result"
    }
   ],
   "source": [
    "type(tarefa5)"
   ]
  },
  {
   "cell_type": "code",
   "execution_count": 71,
   "id": "a7a185ea",
   "metadata": {},
   "outputs": [],
   "source": [
    "# Convertendo a string para um array Numpy (pois foi assim que o modelo foi treinado)\n",
    "tarefa5_array = np.array(tarefa5)"
   ]
  },
  {
   "cell_type": "code",
   "execution_count": 79,
   "id": "0f1ac89d",
   "metadata": {},
   "outputs": [
    {
     "data": {
      "text/plain": [
       "numpy.ndarray"
      ]
     },
     "execution_count": 79,
     "metadata": {},
     "output_type": "execute_result"
    }
   ],
   "source": [
    "type(tarefa5_array)"
   ]
  },
  {
   "cell_type": "code",
   "execution_count": 73,
   "id": "ac29946b",
   "metadata": {},
   "outputs": [],
   "source": [
    "# Aplicamos o vetorizador com mais uma conversão para array NumPy a fim de ajustar o shape de 0-d para 1-d\n",
    "aval_final = vetorizador.transform(np.array([tarefa5_array])).toarray()"
   ]
  },
  {
   "cell_type": "code",
   "execution_count": 75,
   "id": "7f83e64d",
   "metadata": {},
   "outputs": [
    {
     "data": {
      "text/plain": [
       "numpy.ndarray"
      ]
     },
     "execution_count": 75,
     "metadata": {},
     "output_type": "execute_result"
    }
   ],
   "source": [
    "type(aval_final)"
   ]
  },
  {
   "cell_type": "code",
   "execution_count": 76,
   "id": "aa277de9",
   "metadata": {},
   "outputs": [],
   "source": [
    "# Previsão com o modelo\n",
    "previsao = modelo_final.predict(aval_final.reshape(1,1000))"
   ]
  },
  {
   "cell_type": "code",
   "execution_count": 77,
   "id": "51fd55d7",
   "metadata": {},
   "outputs": [
    {
     "name": "stdout",
     "output_type": "stream",
     "text": [
      "[1]\n"
     ]
    }
   ],
   "source": [
    "print(previsao)"
   ]
  },
  {
   "cell_type": "code",
   "execution_count": 78,
   "id": "4cfd693e",
   "metadata": {},
   "outputs": [
    {
     "name": "stdout",
     "output_type": "stream",
     "text": [
      "O Texto Indica Sentimento Positivo!\n"
     ]
    }
   ],
   "source": [
    "# Estrutura condicional para verificar o valor de previsao\n",
    "if previsao == 1:\n",
    "    print(\"O Texto Indica Sentimento Positivo!\")\n",
    "else:\n",
    "    print(\"O Texto Indica Sentimento Negativo!\")"
   ]
  },
  {
   "cell_type": "code",
   "execution_count": 80,
   "id": "157bef90",
   "metadata": {},
   "outputs": [
    {
     "name": "stdout",
     "output_type": "stream",
     "text": [
      "Author: Marcelo Medeiros | Cientista de Dados\n",
      "\n"
     ]
    }
   ],
   "source": [
    "%reload_ext watermark\n",
    "%watermark -a \"Marcelo Medeiros | Cientista de Dados\""
   ]
  },
  {
   "cell_type": "code",
   "execution_count": 81,
   "id": "b86b777d",
   "metadata": {},
   "outputs": [
    {
     "name": "stdout",
     "output_type": "stream",
     "text": [
      "Python implementation: CPython\n",
      "Python version       : 3.9.13\n",
      "IPython version      : 7.31.1\n",
      "\n",
      "Compiler    : MSC v.1916 64 bit (AMD64)\n",
      "OS          : Windows\n",
      "Release     : 10\n",
      "Machine     : AMD64\n",
      "Processor   : Intel64 Family 6 Model 140 Stepping 1, GenuineIntel\n",
      "CPU cores   : 8\n",
      "Architecture: 64bit\n",
      "\n"
     ]
    }
   ],
   "source": [
    "%watermark -v -m"
   ]
  },
  {
   "cell_type": "code",
   "execution_count": 82,
   "id": "2863146e",
   "metadata": {},
   "outputs": [
    {
     "name": "stdout",
     "output_type": "stream",
     "text": [
      "re     : 2.2.1\n",
      "numpy  : 1.26.4\n",
      "pandas : 2.2.2\n",
      "sklearn: 1.0.2\n",
      "nltk   : 3.7\n",
      "\n"
     ]
    }
   ],
   "source": [
    "%watermark --iversions"
   ]
  },
  {
   "cell_type": "markdown",
   "id": "ed2dbdc9",
   "metadata": {},
   "source": [
    "# FIM"
   ]
  }
 ],
 "metadata": {
  "kernelspec": {
   "display_name": "Python 3 (ipykernel)",
   "language": "python",
   "name": "python3"
  },
  "language_info": {
   "codemirror_mode": {
    "name": "ipython",
    "version": 3
   },
   "file_extension": ".py",
   "mimetype": "text/x-python",
   "name": "python",
   "nbconvert_exporter": "python",
   "pygments_lexer": "ipython3",
   "version": "3.9.13"
  }
 },
 "nbformat": 4,
 "nbformat_minor": 5
}
